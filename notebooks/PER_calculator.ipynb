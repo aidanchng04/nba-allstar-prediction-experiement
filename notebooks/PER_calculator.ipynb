{
 "cells": [
  {
   "cell_type": "code",
   "execution_count": 1,
   "metadata": {},
   "outputs": [
    {
     "name": "stdout",
     "output_type": "stream",
     "text": [
      "50.4876892393321\n"
     ]
    }
   ],
   "source": [
    "#Simplified PER Calculator\n",
    "\n",
    "PER = (\n",
    "        ((313) * 85.910) + #fieldGoalsMade\n",
    "        ((44) * 53.897) + #steals\n",
    "        ((11) * 51.757) + #threePointersMade\n",
    "        ((143) * 46.845) + #freeThrowsMade\n",
    "        ((10) * 39.190) + #blocks\n",
    "        ((31) * 39.910) + #reboundsOffensive\n",
    "        ((239) * 34.677) + #assists\n",
    "        ((137) * 14.707) - #reboundsDefensive\n",
    "        ((110) * 17.174) - #foulsPersonal\n",
    "        ((174) - (143) * 20.091) - #freeThrowsAttempted - freeThrowsMade\n",
    "        ((752) - (313) * 39.190) - #fieldGoalsAttempted - fieldGoalsMade\n",
    "        ((118) * 53.897) # turnovers\n",
    "    ) / (\n",
    "        (1078)) #minutes\n",
    "\n",
    "print(PER)\n",
    "\n"
   ]
  },
  {
   "cell_type": "code",
   "execution_count": null,
   "metadata": {},
   "outputs": [],
   "source": [
    "#Simplified PER Calculator\n",
    "\n",
    "PER = (\n",
    "        (() * 85.910) + #fieldGoalsMade\n",
    "        (() * 53.897) + #steals\n",
    "        (() * 51.757) + #threePointersMade\n",
    "        (() * 46.845) + #freeThrowsMade\n",
    "        (() * 39.190) + #blocks\n",
    "        (() * 39.910) + #reboundsOffensive\n",
    "        (() * 34.677) + #assists\n",
    "        (() * 14.707) - #reboundsDefensive\n",
    "        (() * 17.174) - #foulsPersonal\n",
    "        (() - () * 20.091) - #freeThrowsAttempted - freeThrowsMade\n",
    "        (() - () * 39.190) - #fieldGoalsAttempted - fieldGoalsMade\n",
    "        (() * 53.897) # turnovers\n",
    "    ) / (\n",
    "        ()) #minutes\n",
    "\n",
    "print(PER)\n",
    "\n"
   ]
  },
  {
   "cell_type": "code",
   "execution_count": 1,
   "metadata": {},
   "outputs": [],
   "source": [
    "#Stats Conversion for Model\n",
    "import pandas as pd\n",
    "\n",
    "\n",
    "stats_names_list = [\n",
    "    \"gamesPlayed\", \"minutes\", \"points\", \"assits\", \"steals\", \"blocks\", \n",
    "    \"fieldGoalsMade\", \"fieldGoalsAttempted\", \"threePointersMade\", \n",
    "    \"freeThrowsMade\", \"freeThrowsAttempted\", \"reboundsOffensive\",\n",
    "    \"reboundsDefensive\", \"turnovers\", \"foulsPersonal\", \n",
    "    \"plusMinusPoints\", \"usageRate\"\n",
    "]\n",
    "\n",
    "stats = pd.DataFrame({})\n",
    "for x in stats_names_list:\n",
    "    value = int(input(f\"{x}: \"))\n",
    "    stats[x] = value\n",
    "\n",
    "# PER = (\n",
    "#         (() * 85.910) + #fieldGoalsMade\n",
    "#         (() * 53.897) + #steals\n",
    "#         (() * 51.757) + #threePointersMade\n",
    "#         (() * 46.845) + #freeThrowsMade\n",
    "#         (() * 39.190) + #blocks\n",
    "#         (() * 39.910) + #reboundsOffensive\n",
    "#         (() * 34.677) + #assists\n",
    "#         (() * 14.707) - #reboundsDefensive\n",
    "#         (() * 17.174) - #foulsPersonal\n",
    "#         (() - () * 20.091) - #freeThrowsAttempted - freeThrowsMade\n",
    "#         (() - () * 39.190) - #fieldGoalsAttempted - fieldGoalsMade\n",
    "#         (() * 53.897) # turnovers\n",
    "#     ) / (\n",
    "#         ()) #minutes\n",
    "\n",
    "# player_stats = pd.DataFrame({\n",
    "#     'freeThrowsMade': [143],\n",
    "#     'points': [902],\n",
    "#     'plusMinusPoints': [9],\n",
    "#     'fieldGoalsMade': [313],\n",
    "#     'PER': [50.48],\n",
    "#     'turnovers': [118],\n",
    "#     'USG%': [37.3],\n",
    "#     'gamesPlayed': [49],\n",
    "#     'reboundsDefensive': [137],\n",
    "#     'minutes': [1607],\n",
    "#     'assists': [239]\n",
    "# })"
   ]
  }
 ],
 "metadata": {
  "kernelspec": {
   "display_name": "Python 3.11.3 64-bit",
   "language": "python",
   "name": "python3"
  },
  "language_info": {
   "codemirror_mode": {
    "name": "ipython",
    "version": 3
   },
   "file_extension": ".py",
   "mimetype": "text/x-python",
   "name": "python",
   "nbconvert_exporter": "python",
   "pygments_lexer": "ipython3",
   "version": "3.11.3"
  },
  "orig_nbformat": 4,
  "vscode": {
   "interpreter": {
    "hash": "b0fa6594d8f4cbf19f97940f81e996739fb7646882a419484c72d19e05852a7e"
   }
  }
 },
 "nbformat": 4,
 "nbformat_minor": 2
}
