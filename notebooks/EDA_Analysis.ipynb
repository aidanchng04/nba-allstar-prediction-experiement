{
 "cells": [
  {
   "cell_type": "markdown",
   "metadata": {},
   "source": [
    "Basic Summary and Data Cleaning"
   ]
  },
  {
   "cell_type": "code",
   "execution_count": null,
   "metadata": {},
   "outputs": [],
   "source": [
    "import pandas as pd\n",
    "import seaborn as sns\n",
    "import matplotlib.pyplot as plt\n",
    "\n",
    "df = pd.read_csv(\"../data/processed/indiv_stats_avg.csv\")                \n",
    "\n",
    "print(df.columns)\n",
    "\n",
    "# Check for missing values\n",
    "missing_values = df.isnull().sum()\n",
    "print(\"\\nMissing Values:\\n\", missing_values[missing_values > 0])\n",
    "\n",
    "# Summary statistics\n",
    "print(df.describe())\n",
    "\n",
    "# Visualize missing values\n",
    "plt.figure(figsize=(12, 6))\n",
    "sns.heatmap(df.isnull(), cbar=False, cmap=\"viridis\")\n",
    "plt.title(\"Missing Values Heatmap\")\n",
    "plt.show()"
   ]
  },
  {
   "cell_type": "markdown",
   "metadata": {},
   "source": [
    "1️⃣ Identify Key Differences Between All-Stars and Non-All-Stars from 2011 - 2024\n"
   ]
  },
  {
   "cell_type": "code",
   "execution_count": null,
   "metadata": {},
   "outputs": [],
   "source": [
    "import pandas as pd\n",
    "import seaborn as sns\n",
    "import matplotlib.pyplot as plt\n",
    "\n",
    "df = pd.read_csv(\"../data/processed/indiv_stats_avg.csv\")   \n",
    "\n",
    "\n",
    "# Gathering the top 9 factors that I think are crucial when considering an all-star selection\n",
    "crucial_stats = [\n",
    "    'points', 'fieldGoalsPercentage', 'threePointersMade', 'assists', \n",
    "    'plusMinusPoints', 'steals', 'blocks', 'reboundsTotal', 'minutes'\n",
    "]\n",
    "\n",
    "\n",
    "# Creating the boxplots\n",
    "plt.figure(figsize=(15, 12))\n",
    "for i, crucial_stats in enumerate(crucial_stats, 1):\n",
    "    plt.subplot(3, 3, i)\n",
    "    sns.histplot(df, x=crucial_stats, hue=\"allStar\", kde=True, bins=30)\n",
    "    plt.title(f\"Distribution of {crucial_stats}\")\n",
    "\n",
    "plt.tight_layout()\n",
    "plt.show()"
   ]
  },
  {
   "cell_type": "markdown",
   "metadata": {},
   "source": [
    "2️⃣ Visualize Trends in PPG, PER, Usage Rate, and Plus-Minus"
   ]
  },
  {
   "cell_type": "code",
   "execution_count": null,
   "metadata": {},
   "outputs": [],
   "source": [
    "import pandas as pd\n",
    "import seaborn as sns\n",
    "import matplotlib.pyplot as plt\n",
    "\n",
    "df = pd.read_csv(\"../data/processed/combined_nba_boxscores.csv\")\n",
    "\n",
    "\n",
    "# Gathering the top 9 factors that I think are crucial when considering an all-star selection\n",
    "crucial_stats = [\n",
    "    'points', 'fieldGoalsPercentage', 'threePointersMade', 'assists', \n",
    "    'plusMinusPoints', 'steals', 'blocks', 'reboundsTotal', 'turnovers'\n",
    "]\n",
    "\n",
    "# Grouping the season stats but separating them based on all-stars vs non-all-stars\n",
    "all_star_df = df[df[\"allStar\"] == 1]\n",
    "non_all_star_df = df[df[\"allStar\"] == 0]\n",
    "\n",
    "all_star_season_stats = all_star_df.groupby(\"season_year\")[crucial_stats].mean().reset_index()\n",
    "non_all_star_season_stats = non_all_star_df.groupby(\"season_year\")[crucial_stats].mean().reset_index()\n",
    "\n",
    "\n",
    "# Creating the line plots\n",
    "plt.figure(figsize=(18, 18))\n",
    "for i, crucial_stats in enumerate(crucial_stats, 1):\n",
    "    plt.subplot(3, 3, i)\n",
    "    sns.lineplot(x=all_star_season_stats[\"season_year\"], y=all_star_season_stats[crucial_stats], label=\"All Star\")\n",
    "    sns.lineplot(x=non_all_star_season_stats[\"season_year\"], y=non_all_star_season_stats[crucial_stats], label=\"Non-All Star\")\n",
    "    plt.title(f\"Player Performace Trend for {crucial_stats})\")\n",
    "    plt.xlabel(\"Season Year\")\n",
    "    plt.ylabel(\"Average Statistic\")\n",
    "\n",
    "plt.show()"
   ]
  },
  {
   "cell_type": "markdown",
   "metadata": {},
   "source": [
    "3️⃣ Create Correlation Heatmaps"
   ]
  },
  {
   "cell_type": "code",
   "execution_count": null,
   "metadata": {},
   "outputs": [],
   "source": [
    "import pandas as pd\n",
    "import seaborn as sns\n",
    "import matplotlib.pyplot as plt\n",
    "\n",
    "df = pd.read_csv(\"../data/processed/indiv_stats_avg.csv\")   \n",
    "\n",
    "\n",
    "# Select only numeric columns\n",
    "df_numeric = df.select_dtypes(include=['number'])\n",
    "\n",
    "\n",
    "# Correlation Heatmap\n",
    "plt.figure(figsize=(12, 8))\n",
    "sns.heatmap(df_numeric.corr(), annot=True, cmap=\"coolwarm\", linewidths=0.5)\n",
    "plt.title(\"Feature Correlation Heatmap\")\n",
    "plt.show()"
   ]
  },
  {
   "cell_type": "markdown",
   "metadata": {},
   "source": [
    "4️⃣ Feature Importance Plots (Using SHAP)"
   ]
  },
  {
   "cell_type": "code",
   "execution_count": null,
   "metadata": {},
   "outputs": [],
   "source": [
    "import shap\n",
    "import joblib\n",
    "import numpy as np\n",
    "\n",
    "# Load trained model\n",
    "model = joblib.load(\"../models/allstar_model_new.pkl\")\n",
    "\n",
    "\n",
    "# Ensure X contains the expected features from the model\n",
    "missing_features = set(model.feature_names_in_) - set(X.columns)\n",
    "\n",
    "\n",
    "# If missing features exist, reload them from the original dataset\n",
    "if missing_features:\n",
    "    print(f\"Missing features found: {missing_features}\")\n",
    "    \n",
    "    # Reload full dataset to get missing features\n",
    "    df_original = pd.read_csv(\"../data/processed/indiv_stats_avg.csv\")\n",
    "\n",
    "    # Ensure X matches the trained model's features\n",
    "    X = df_original[model.feature_names_in_]\n",
    "\n",
    "\n",
    "# Ensure X has the correct features\n",
    "X_train_columns = model.feature_names_in_\n",
    "\n",
    "\n",
    "# Initialize SHAP Explainer with additivity disabled\n",
    "explainer = shap.TreeExplainer(model)\n",
    "\n",
    "\n",
    "# Compute SHAP values using predict_proba instead of predict\n",
    "shap_values = explainer.shap_values(X, check_additivity=False)\n",
    "\n",
    "\n",
    "# Plot summary for class 1 (All-Star probability)\n",
    "shap_values_class1 = shap_values[:, :, 1]  # Select SHAP values for class 1\n",
    "shap.summary_plot(shap_values_class1, X, max_display = 30)\n",
    "\n"
   ]
  }
 ],
 "metadata": {
  "kernelspec": {
   "display_name": "Python 3.11.3 64-bit",
   "language": "python",
   "name": "python3"
  },
  "language_info": {
   "codemirror_mode": {
    "name": "ipython",
    "version": 3
   },
   "file_extension": ".py",
   "mimetype": "text/x-python",
   "name": "python",
   "nbconvert_exporter": "python",
   "pygments_lexer": "ipython3",
   "version": "3.11.3"
  },
  "orig_nbformat": 4,
  "vscode": {
   "interpreter": {
    "hash": "b0fa6594d8f4cbf19f97940f81e996739fb7646882a419484c72d19e05852a7e"
   }
  }
 },
 "nbformat": 4,
 "nbformat_minor": 2
}
